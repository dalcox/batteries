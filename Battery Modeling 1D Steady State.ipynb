{
 "cells": [
  {
   "cell_type": "code",
   "execution_count": 3,
   "metadata": {
    "collapsed": true
   },
   "outputs": [],
   "source": [
    "import scipy as sp\n",
    "import numpy as np\n",
    "import BATT as b\n",
    "import matplotlib.pyplot as plt\n",
    "from scipy.integrate import odeint\n",
    "from scipy.optimize import fsolve\n",
    "from scipy.integrate import solve_bvp\n",
    "\n",
    "%matplotlib inline"
   ]
  },
  {
   "cell_type": "code",
   "execution_count": 62,
   "metadata": {
    "collapsed": true
   },
   "outputs": [],
   "source": [
    "# initializing constants\n",
    "K = 0.06    #liquid conductivity\n",
    "s = 20.     #solid conductivity\n",
    "a = 23300.  #area/volume\n",
    "ac = 0.5    #alpha cathode\n",
    "aa = 0.5    #alpha anode\n",
    "io = 2e-7   #exchange current density\n",
    "L = .5      #length\n",
    "n = 1       #exchanged electrons\n",
    "F = 96485   #Faraday's constant\n",
    "R = 8.314   #gas constant\n",
    "T = 298     #temperature\n",
    "I = 0.1     #total current density\n",
    "L_sep = 0.1 #length of separator\n",
    "Resist_sep = 1 #resistance of separator per length\n",
    "\n",
    "\n",
    "# graph analytically\n",
    "# X = np.linspace(0., L, 200)\n",
    "# Y=y = X/L\n",
    "# v = L*np.sqrt(a*io*(n*F)/(R*T)*(K + s)/(K*s))\n",
    "# i2 = I * K/(K + s)*(1 + (s*(K**-1)*np.sinh(v*(1-y)) - np.sinh(v*y))/np.sinh(v))"
   ]
  },
  {
   "cell_type": "code",
   "execution_count": 3,
   "metadata": {
    "collapsed": true
   },
   "outputs": [],
   "source": [
    "def Tafelfunc(IV, x):\n",
    "    \"\"\"\n",
    "    uses Tafel kinetics\n",
    "    \"\"\"\n",
    "    i1, i2, V1, V2 = IV\n",
    "    \n",
    "    di2 = -a*io*np.exp(-ac*n*F/(R*T)*(V1 - V2))\n",
    "    di1 = -di2\n",
    "    dV1 = -i1/s\n",
    "    dV2 = -i2/K\n",
    "    \n",
    "    return di1, di2, dV1, dV2\n",
    "\n",
    "def ObjectiveTafel(IVo):\n",
    "    \"\"\"\n",
    "    Solves initial condition for tafel kinetic problem\n",
    "    \"\"\"\n",
    "    i1o, V2o = IVo\n",
    "    U = odeint(Tafelfunc, [i1o, I, 0, V2o], X)\n",
    "    V = U[:,3]\n",
    "    dV = np.diff(V)/np.diff(X)\n",
    "    \n",
    "    return U[0,0], dV[-1]"
   ]
  },
  {
   "cell_type": "code",
   "execution_count": 4,
   "metadata": {
    "collapsed": true
   },
   "outputs": [],
   "source": [
    "#analytically combined equation\n",
    "def simplebattfunc(x, i):\n",
    "    \"\"\"\n",
    "    Analytically solved current and voltage within electrode\n",
    "    \"\"\"\n",
    "    i0, i1 = i\n",
    "    di = i1\n",
    "    d2i = a*io*(n*F)/(R*T)*(-I/s + i0*(1/s + 1/K))\n",
    "    return di, d2i\n",
    "\n",
    "#systems of differential equations with drop-in replacements possible\n",
    "def linearbattfunc(x, IV):\n",
    "    \"\"\"\n",
    "    Linear current and voltage within single electrode\n",
    "    \"\"\"\n",
    "    i1, i2, V1, V2 = IV\n",
    "    di2 = a*io*(n*F)/(R*T)*(V1 - V2)\n",
    "    #Kinetics\n",
    "    di1 = -di2\n",
    "    #charge neutrality\n",
    "    dV1 = -i1/s\n",
    "    #solids ohms law\n",
    "    dV2 = -i2/K\n",
    "    #liquids ohms law\n",
    "    return di1, di2, dV1, dV2\n",
    "\n",
    "def BVbattfunc(x, IV):\n",
    "    \"\"\"\n",
    "    Full Butler-Volmer kinetics\n",
    "    \"\"\"\n",
    "    i1, i2, V1, V2 = IV\n",
    "    di2 = a*io*(np.exp((n*F)/(R*T)*aa*(V1 - V2)) - np.exp((n*F)/(R*T)*-ac*(V1 - V2)))\n",
    "    #Kinetics\n",
    "    di1 = -di2\n",
    "    #charge neutrality\n",
    "    dV1 = -i1/s\n",
    "    #solids ohms law\n",
    "    dV2 = -i2/K\n",
    "    #liquids ohms law\n",
    "    return di1, di2, dV1, dV2\n",
    "\n",
    "def Tafelfunc_a(x, IV):\n",
    "    \"\"\"\n",
    "    uses Tafel kinetics\n",
    "    \"\"\"\n",
    "    i1, i2, V1, V2 = IV\n",
    "\n",
    "    taff = aa*n*F/(R*T)*(V1-V2)\n",
    "\n",
    "    di2 = a*io*np.exp(taff)\n",
    "    #Kinetics\n",
    "    di1 = -di2\n",
    "    #charge neutrality\n",
    "    dV1 = -i1/s\n",
    "    #solids ohms law\n",
    "    dV2 = -i2/K\n",
    "    #liquids ohms law\n",
    "\n",
    "    return di1, di2, dV1, dV2\n",
    "\n",
    "def Tafelfunc_c(x, IV):\n",
    "    \"\"\"\n",
    "    uses Tafel kinetics\n",
    "    \"\"\"\n",
    "    i1, i2, V1, V2 = IV\n",
    "\n",
    "    taff = -ac*n*F/(R*T)*(V1-V2)\n",
    "\n",
    "    di2 = -a*io*np.exp(taff)\n",
    "    #Kinetics\n",
    "    di1 = -di2\n",
    "    #charge neutrality\n",
    "    dV1 = -i1/s\n",
    "    #solids ohms law\n",
    "    dV2 = -i2/K\n",
    "    #liquids ohms law\n",
    "\n",
    "    return di1, di2, dV1, dV2\n"
   ]
  },
  {
   "cell_type": "code",
   "execution_count": 5,
   "metadata": {
    "collapsed": true
   },
   "outputs": [],
   "source": [
    "\n",
    "def BC_c(ya, yb):\n",
    "    return (yb[0] - I), (ya[1] - I), ya[3], yb[1]\n",
    "\n",
    "def BC_a(ya, yb):\n",
    "    return (yb[1] - I), (ya[0] - I), ya[2], yb[0]"
   ]
  },
  {
   "cell_type": "code",
   "execution_count": 6,
   "metadata": {},
   "outputs": [
    {
     "name": "stderr",
     "output_type": "stream",
     "text": [
      "/Users/daltoncox/anaconda/lib/python3.6/site-packages/ipykernel/__main__.py:50: RuntimeWarning: overflow encountered in exp\n",
      "/Users/daltoncox/anaconda/lib/python3.6/site-packages/scipy/integrate/_bvp.py:312: RuntimeWarning: invalid value encountered in subtract\n",
      "  0.125 * h * (f[:, 1:] - f[:, :-1]))\n",
      "/Users/daltoncox/anaconda/lib/python3.6/site-packages/scipy/integrate/_bvp.py:493: RuntimeWarning: invalid value encountered in less\n",
      "  if (np.all(np.abs(col_res) < tol_r * (1 + np.abs(f_middle))) and\n",
      "/Users/daltoncox/anaconda/lib/python3.6/site-packages/scipy/integrate/_bvp.py:42: RuntimeWarning: invalid value encountered in subtract\n",
      "  df_dy[:, i, :] = (f_new - f0) / hi\n",
      "/Users/daltoncox/anaconda/lib/python3.6/site-packages/scipy/integrate/_bvp.py:570: RuntimeWarning: invalid value encountered in true_divide\n",
      "  r_middle /= 1 + np.abs(f_middle)\n"
     ]
    },
    {
     "data": {
      "image/png": "[encoded data removed]",
      "text/plain": [
       "<matplotlib.figure.Figure at 0x113a65400>"
      ]
     },
     "metadata": {},
     "output_type": "display_data"
    },
    {
     "data": {
      "image/png": "[encoded data removed]",
      "text/plain": [
       "<matplotlib.figure.Figure at 0x117a9c208>"
      ]
     },
     "metadata": {},
     "output_type": "display_data"
    }
   ],
   "source": [
    "# x = np.linspace(0, L, 10)\n",
    "# y = np.ones([4, 10])\n",
    "\n",
    "# # y[:,0] = [0., I, .1, .1]\n",
    "# # y[:,-1] = [I, 0., .1, .1]\n",
    "\n",
    "# linear_IV = solve_bvp(linearbattfunc, BC_a, x, y)\n",
    "# Ta_IV = solve_bvp(Tafelfunc_a, BC_a, x, y)\n",
    "# Tc_IV = solve_bvp(Tafelfunc_c, BC_c, x, y)\n",
    "\n",
    "# x_plot = np.linspace(0, L, 100)\n",
    "\n",
    "# plt.figure(0)\n",
    "# for i in range(2):\n",
    "# #     plt.plot(x, y[i])\n",
    "# #     plt.plot(x_plot, linear_IV.sol(x_plot)[i])\n",
    "#     plt.plot(x_plot, Ta_IV.sol(x_plot)[i], color = 'r')\n",
    "#     plt.plot(x_plot, Tc_IV.sol(x_plot)[i], color = 'b')\n",
    "    \n",
    "# plt.figure(1)\n",
    "# for i in range(2, 4):\n",
    "# #     plt.plot(x_plot, linear_IV.sol(x_plot)[i])\n",
    "#     plt.plot(x_plot, Ta_IV.sol(x_plot)[i], color = 'r')\n",
    "#     plt.plot(x_plot, Tc_IV.sol(x_plot)[i], color = 'b')"
   ]
  },
  {
   "cell_type": "code",
   "execution_count": 7,
   "metadata": {},
   "outputs": [
    {
     "name": "stdout",
     "output_type": "stream",
     "text": [
      "[-0.97535609 -0.97536855 -0.97545646 -0.97561984 -0.97585873 -0.97617316\n",
      " -0.97656315 -0.97702874 -0.97756996 -0.97818683 -0.97887939 -0.97964767\n",
      " -0.98049171 -0.98141159 -0.98240741 -0.98347926 -0.98462723 -0.98585143\n",
      " -0.98715194 -0.98852886 -0.98998229 -0.99151232 -0.99311904 -0.99480257\n",
      " -0.99656304 -0.99840062 -1.00031547 -1.00230775 -1.00437762 -1.00652524\n",
      " -1.00875078 -1.01105438 -1.01343621 -1.01589643 -1.01843522 -1.02105278\n",
      " -1.02374935 -1.02652514 -1.0293804  -1.03231534 -1.0353302  -1.03842519\n",
      " -1.04160055 -1.04485651 -1.04819329 -1.05161112 -1.0551103  -1.05869112\n",
      " -1.06235387 -1.06609886 -1.06992637 -1.07383671 -1.07783017 -1.08190705\n",
      " -1.08606764 -1.09031223 -1.09464115 -1.09905473 -1.10355336 -1.10813739\n",
      " -1.1128072  -1.11756315 -1.12240562 -1.12733496 -1.13235155 -1.13745576\n",
      " -1.14264795 -1.14792851 -1.15329786 -1.15875645 -1.16430471 -1.1699431\n",
      " -1.17567206 -1.18149202 -1.18740344 -1.19340676 -1.19950242 -1.20569086\n",
      " -1.21197254 -1.21834797 -1.22481766 -1.23138215 -1.23804196 -1.2447976\n",
      " -1.2516496  -1.25859849 -1.26564479 -1.27278901 -1.28003169 -1.28737336\n",
      " -1.2948146  -1.30235604 -1.30999826 -1.31774189 -1.32558752 -1.33353577\n",
      " -1.34158724 -1.34974254 -1.35800228 -1.36636706]\n"
     ]
    }
   ],
   "source": [
    "print(linear_IV.sol(x_plot)[3] - linear_IV.sol(x_plot)[2])"
   ]
  },
  {
   "cell_type": "markdown",
   "metadata": {
    "collapsed": true
   },
   "source": [
    "# Anode and cathode modeling"
   ]
  },
  {
   "cell_type": "code",
   "execution_count": 8,
   "metadata": {
    "collapsed": true
   },
   "outputs": [],
   "source": [
    "#i1(0) = 0, i1(L) = I, i1(2L) = 0\n",
    "#i2(0) = I, i2(L) = 0, i2(2L) = I\n",
    "#v1(L) = 0\n",
    "\n",
    "def BCOverall(ya, yb):\n",
    "    return (yb[0] - I), (ya[1] - I), ya[3], yb[1], (yb[5] - I), (ya[4] - I), yb[7] - ya[3], yb[4]\n",
    "#     return (ya[0] - I), yb[0], (yb[1] - I), ya[2]# (yb[4] - I), ya[4], (ya[5] - I), ya[2], (ya[6])\n",
    "    \n",
    "def TafelOverall(x, IV):\n",
    "    \"\"\"\n",
    "    uses Tafel kinetics\n",
    "    \"\"\"\n",
    "#     i1, i2, V1, V2 = IV\n",
    "\n",
    "#     taff = -ac*n*F/(R*T)*(V1-V2)\n",
    "\n",
    "#     di2 = -a*io*np.exp(taff)\n",
    "#     #Kinetics\n",
    "#     di1 = -di2\n",
    "#     #charge neutrality\n",
    "#     dV1 = -i1/s\n",
    "#     #solids ohms law\n",
    "#     dV2 = -i2/K\n",
    "#     #liquids ohms law\n",
    "\n",
    "#     return di1, di2, dV1, dV2\n",
    "    is_p, ie_p, Vs_p, Ve_p, is_n, ie_n, Vs_n, Ve_n = IV\n",
    "    #n represents anode attributes, p represents cathode attributes\n",
    "    \n",
    "    taff_p = -ac*n*F/(R*T)*(Vs_p - Ve_p)\n",
    "    taff_n = aa*n*F/(R*T)*(Vs_n - Ve_n)\n",
    "    \n",
    "    die_p = -a*io*np.exp(taff_p)\n",
    "    die_n = a*io*np.exp(taff_n)\n",
    "    #Kinetics\n",
    "    dis_p = -die_p\n",
    "    dis_n = -die_n\n",
    "    #charge neutrality\n",
    "    dVs_p = -is_p/s\n",
    "    dVs_n = -is_n/s\n",
    "    #solids ohms law\n",
    "    dVe_p = -ie_p/K\n",
    "    dVe_n = -ie_n/K\n",
    "    #liquids ohms law\n",
    "\n",
    "    return dis_p, die_p, dVs_p, dVe_p, dis_n, die_n, dVs_n, dVe_n\n",
    "\n"
   ]
  },
  {
   "cell_type": "code",
   "execution_count": 9,
   "metadata": {},
   "outputs": [
    {
     "data": {
      "image/png": "[encoded data removed]",
      "text/plain": [
       "<matplotlib.figure.Figure at 0x117d406a0>"
      ]
     },
     "metadata": {},
     "output_type": "display_data"
    }
   ],
   "source": [
    "N = 10\n",
    "x = np.linspace(0, L, N)\n",
    "# x2 = np.linspace(0,L, N)\n",
    "y = np.zeros([8, N])\n",
    "\n",
    "# y[:,0] = [0., I, .1, .1]\n",
    "# y[:,-1] = [I, 0., .1, .1]\n",
    "\n",
    "Mashed = solve_bvp(TafelOverall, BCOverall, x, y)\n",
    "# Ta_IV = solve_bvp(Tafelfunc_a, BC_a, x, y)\n",
    "# Tc_IV = solve_bvp(Tafelfunc_c, BC_c, x, y)\n",
    "\n",
    "x_plot = np.linspace(0, L, 100)\n",
    "\n",
    "plt.figure()\n",
    "for i in range(2):\n",
    "#     plt.plot(x, y[i])\n",
    "#     plt.plot(x_plot, linear_IV.sol(x_plot)[i])\n",
    "    plt.plot(x_plot, Mashed.sol(x_plot)[i], color = 'r', label = i)\n",
    "    plt.legend(loc = 'best')"
   ]
  },
  {
   "cell_type": "code",
   "execution_count": 10,
   "metadata": {
    "collapsed": true
   },
   "outputs": [],
   "source": [
    "a = np.append(Mashed.sol(x_plot)[4], Mashed.sol(x_plot)[0])\n",
    "b = np.append(Mashed.sol(x_plot)[5], Mashed.sol(x_plot)[1])\n",
    "c = np.append(Mashed.sol(x_plot)[6], Mashed.sol(x_plot)[2])\n",
    "d = np.append(Mashed.sol(x_plot)[7], Mashed.sol(x_plot)[3])"
   ]
  },
  {
   "cell_type": "code",
   "execution_count": 11,
   "metadata": {},
   "outputs": [
    {
     "data": {
      "image/png": "[encoded data removed]",
      "text/plain": [
       "<matplotlib.figure.Figure at 0x117c5d320>"
      ]
     },
     "metadata": {},
     "output_type": "display_data"
    }
   ],
   "source": [
    "x_plot2 = np.linspace(0, 2*L, 200)\n",
    "data = [a,b,c,d]\n",
    "labels = ['solid current','electrolyte current','solid voltage','electrolyte voltage']\n",
    "for i in range(4):\n",
    "    plt.plot(x_plot2, data[i], label = labels[i], marker = '.', linestyle = 'none')\n",
    "    plt.legend(loc = 'best')"
   ]
  },
  {
   "cell_type": "code",
   "execution_count": 57,
   "metadata": {
    "collapsed": true
   },
   "outputs": [],
   "source": [
    "Vwall1 = 1\n",
    "Vwall2 = 1\n",
    "\n",
    "def BCCath(ya, yb):\n",
    "    return (yb[0] - I), (ya[1] - I), ya[3] - Vwall_2, yb[1]\n",
    "#     return (ya[0] - I), yb[0], (yb[1] - I), ya[2]# (yb[4] - I), ya[4], (ya[5] - I), ya[2], (ya[6])\n",
    "\n",
    "def BCAn(ya, yb):\n",
    "    return (yb[1] - I), (ya[0] - I), yb[3], yb[0]\n",
    "#     return (ya[0] - I), yb[0], (yb[1] - I), ya[2]# (yb[4] - I), ya[4], (ya[5] - I), ya[2], (ya[6])\n",
    "      \n",
    "def TafelCath(x, IV):\n",
    "    \"\"\"\n",
    "    uses Tafel kinetics\n",
    "    \"\"\"\n",
    "    is_p, ie_p, Vs_p, Ve_p = IV\n",
    "    #n represents anode attributes, p represents cathode attributes\n",
    "    \n",
    "    taff_p = -ac*n*F/(R*T)*(Vs_p - Ve_p)\n",
    "    die_p = -a*io*np.exp(taff_p)\n",
    "    #Kinetics\n",
    "    \n",
    "    dis_p = -die_p\n",
    "    #charge neutrality\n",
    "    \n",
    "    dVs_p = -is_p/s\n",
    "    #solids ohms law\n",
    "    \n",
    "    dVe_p = -ie_p/K\n",
    "    #liquids ohms law\n",
    "\n",
    "    return dis_p, die_p, dVs_p, dVe_p\n",
    "\n",
    "def TafelAn(x, IV):\n",
    "    \"\"\"\n",
    "    uses Tafel kinetics\n",
    "    \"\"\"\n",
    "    \n",
    "    is_n, ie_n, Vs_n, Ve_n = IV\n",
    "    #n represents anode attributes, p represents cathode attributes\n",
    "    \n",
    "    taff_n = aa*n*F/(R*T)*(Vs_n - Ve_n)\n",
    "    die_n = a*io*np.exp(taff_n)\n",
    "    #Kinetics\n",
    "    \n",
    "    dis_n = -die_n\n",
    "    #charge neutrality\n",
    "    \n",
    "    dVs_n = -is_n/s\n",
    "    #solids ohms law\n",
    "    \n",
    "    dVe_n = -ie_n/K\n",
    "    #liquids ohms law\n",
    "\n",
    "    return dis_n, die_n, dVs_n, dVe_n"
   ]
  },
  {
   "cell_type": "code",
   "execution_count": 63,
   "metadata": {},
   "outputs": [
    {
     "data": {
      "text/plain": [
       "[<matplotlib.lines.Line2D at 0x113b5ba90>]"
      ]
     },
     "execution_count": 63,
     "metadata": {},
     "output_type": "execute_result"
    },
    {
     "data": {
      "image/png": "[encoded data removed]",
      "text/plain": [
       "<matplotlib.figure.Figure at 0x113d00860>"
      ]
     },
     "metadata": {},
     "output_type": "display_data"
    }
   ],
   "source": [
    "N = 10\n",
    "N_sep = 20\n",
    "x_cath = np.linspace(L + L_sep, 2*L + L_sep, N)\n",
    "x_an = np.linspace(0, L, N)\n",
    "y = np.zeros([4, N])\n",
    "\n",
    "x_plot_cath = np.linspace(L + L_sep, L_sep + 2*L, 100)\n",
    "x_plot_an = np.linspace(0, L, 100)\n",
    "\n",
    "An = solve_bvp(TafelAn, BCAn, x_an, y)\n",
    "Vwall_1 = An.sol(x_plot)[3][-1]\n",
    "\n",
    "x_sep = np.linspace(L, L + L_sep, N_sep)\n",
    "is_sep = np.ones(N_sep) * An.sol(x_plot_an)[0][-1]\n",
    "ie_sep = np.ones(N_sep) * An.sol(x_plot_an)[1][-1]\n",
    "Ve_sep = np.zeros(N_sep)\n",
    "Ve_sep[0] = Vwall_1\n",
    "for i in range(N_sep):\n",
    "    Ve_sep[i] = Vwall_1 - (x_sep[i] - L) * Resist_sep\n",
    "\n",
    "Vwall_2 = Ve_sep[-1]\n",
    "Cath = solve_bvp(TafelCath, BCCath, x_cath, y)\n",
    "# Ta_IV = solve_bvp(Tafelfunc_a, BC_a, x, y)\n",
    "# Tc_IV = solve_bvp(Tafelfunc_c, BC_c, x, y)\n",
    "\n",
    "for i in range(4):\n",
    "    plt.plot(x_plot_cath, Cath.sol(x_plot_cath)[i], color = 'r')\n",
    "    plt.plot(x_plot_an, An.sol(x_plot_an)[i], color = 'b')\n",
    "\n",
    "plt.plot(x_sep, Ve_sep, color = 'g')\n",
    "plt.plot(x_sep, is_sep, color = 'g')\n",
    "plt.plot(x_sep, ie_sep, color = 'g')"
   ]
  },
  {
   "cell_type": "code",
   "execution_count": 39,
   "metadata": {},
   "outputs": [
    {
     "name": "stdout",
     "output_type": "stream",
     "text": [
      "1.08420217249e-19\n"
     ]
    }
   ],
   "source": [
    "print(Cath.sol(x_plot)[3][-1])"
   ]
  },
  {
   "cell_type": "code",
   "execution_count": null,
   "metadata": {
    "collapsed": true
   },
   "outputs": [],
   "source": []
  }
 ],
 "metadata": {
  "kernelspec": {
   "display_name": "Python [default]",
   "language": "python",
   "name": "python3"
  },
  "language_info": {
   "codemirror_mode": {
    "name": "ipython",
    "version": 3
   },
   "file_extension": ".py",
   "mimetype": "text/x-python",
   "name": "python",
   "nbconvert_exporter": "python",
   "pygments_lexer": "ipython3",
   "version": "3.6.1"
  }
 },
 "nbformat": 4,
 "nbformat_minor": 2
}
