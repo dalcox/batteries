{
 "cells": [
  {
   "cell_type": "code",
   "execution_count": 1,
   "metadata": {
    "collapsed": true
   },
   "outputs": [],
   "source": [
    "import scipy as sp\n",
    "import numpy as np\n",
    "import BATT as b\n",
    "import matplotlib.pyplot as plt\n",
    "from scipy.integrate import odeint\n",
    "from scipy.optimize import fsolve\n",
    "from scipy.integrate import solve_bvp\n",
    "\n",
    "%matplotlib inline"
   ]
  },
  {
   "cell_type": "code",
   "execution_count": 2,
   "metadata": {
    "collapsed": true
   },
   "outputs": [],
   "source": [
    "# initializing constants\n",
    "K = 0.06    #liquid conductivity\n",
    "s = 20.     #solid conductivity\n",
    "a = 23300.  #area/volume\n",
    "ac = 0.5    #alpha cathode\n",
    "aa = 0.5    #alpha anode\n",
    "io = 2e-7   #exchange current density\n",
    "L = .5      #length\n",
    "n = 1       #exchanged electrons\n",
    "F = 96485   #Faraday's constant\n",
    "R = 8.314   #gas constant\n",
    "T = 298     #temperature\n",
    "I = 0.1     #total current density\n",
    "L_sep = 0.1 #length of separator\n",
    "Resist_sep = 1 #resistance of separator per length\n",
    "\n",
    "\n",
    "# graph analytically\n",
    "# X = np.linspace(0., L, 200)\n",
    "# Y=y = X/L\n",
    "# v = L*np.sqrt(a*io*(n*F)/(R*T)*(K + s)/(K*s))\n",
    "# i2 = I * K/(K + s)*(1 + (s*(K**-1)*np.sinh(v*(1-y)) - np.sinh(v*y))/np.sinh(v))"
   ]
  },
  {
   "cell_type": "code",
   "execution_count": 3,
   "metadata": {
    "collapsed": true
   },
   "outputs": [],
   "source": [
    "def Tafelfunc(IV, x):\n",
    "    \"\"\"\n",
    "    uses Tafel kinetics\n",
    "    \"\"\"\n",
    "    i1, i2, V1, V2 = IV\n",
    "    \n",
    "    di2 = -a*io*np.exp(-ac*n*F/(R*T)*(V1 - V2))\n",
    "    di1 = -di2\n",
    "    dV1 = -i1/s\n",
    "    dV2 = -i2/K\n",
    "    \n",
    "    return di1, di2, dV1, dV2\n",
    "\n",
    "def ObjectiveTafel(IVo):\n",
    "    \"\"\"\n",
    "    Solves initial condition for tafel kinetic problem\n",
    "    \"\"\"\n",
    "    i1o, V2o = IVo\n",
    "    U = odeint(Tafelfunc, [i1o, I, 0, V2o], X)\n",
    "    V = U[:,3]\n",
    "    dV = np.diff(V)/np.diff(X)\n",
    "    \n",
    "    return U[0,0], dV[-1]"
   ]
  },
  {
   "cell_type": "code",
   "execution_count": 4,
   "metadata": {
    "collapsed": true
   },
   "outputs": [],
   "source": [
    "#analytically combined equation\n",
    "def simplebattfunc(x, i):\n",
    "    \"\"\"\n",
    "    Analytically solved current and voltage within electrode\n",
    "    \"\"\"\n",
    "    i0, i1 = i\n",
    "    di = i1\n",
    "    d2i = a*io*(n*F)/(R*T)*(-I/s + i0*(1/s + 1/K))\n",
    "    return di, d2i\n",
    "\n",
    "#systems of differential equations with drop-in replacements possible\n",
    "def linearbattfunc(x, IV):\n",
    "    \"\"\"\n",
    "    Linear current and voltage within single electrode\n",
    "    \"\"\"\n",
    "    i1, i2, V1, V2 = IV\n",
    "    di2 = a*io*(n*F)/(R*T)*(V1 - V2)\n",
    "    #Kinetics\n",
    "    di1 = -di2\n",
    "    #charge neutrality\n",
    "    dV1 = -i1/s\n",
    "    #solids ohms law\n",
    "    dV2 = -i2/K\n",
    "    #liquids ohms law\n",
    "    return di1, di2, dV1, dV2\n",
    "\n",
    "def BVbattfunc(x, IV):\n",
    "    \"\"\"\n",
    "    Full Butler-Volmer kinetics\n",
    "    \"\"\"\n",
    "    i1, i2, V1, V2 = IV\n",
    "    di2 = a*io*(np.exp((n*F)/(R*T)*aa*(V1 - V2)) - np.exp((n*F)/(R*T)*-ac*(V1 - V2)))\n",
    "    #Kinetics\n",
    "    di1 = -di2\n",
    "    #charge neutrality\n",
    "    dV1 = -i1/s\n",
    "    #solids ohms law\n",
    "    dV2 = -i2/K\n",
    "    #liquids ohms law\n",
    "    return di1, di2, dV1, dV2\n",
    "\n",
    "def Tafelfunc_a(x, IV):\n",
    "    \"\"\"\n",
    "    uses Tafel kinetics\n",
    "    \"\"\"\n",
    "    i1, i2, V1, V2 = IV\n",
    "\n",
    "    taff = aa*n*F/(R*T)*(V1-V2)\n",
    "\n",
    "    di2 = a*io*np.exp(taff)\n",
    "    #Kinetics\n",
    "    di1 = -di2\n",
    "    #charge neutrality\n",
    "    dV1 = -i1/s\n",
    "    #solids ohms law\n",
    "    dV2 = -i2/K\n",
    "    #liquids ohms law\n",
    "\n",
    "    return di1, di2, dV1, dV2\n",
    "\n",
    "def Tafelfunc_c(x, IV):\n",
    "    \"\"\"\n",
    "    uses Tafel kinetics\n",
    "    \"\"\"\n",
    "    i1, i2, V1, V2 = IV\n",
    "\n",
    "    taff = -ac*n*F/(R*T)*(V1-V2)\n",
    "\n",
    "    di2 = -a*io*np.exp(taff)\n",
    "    #Kinetics\n",
    "    di1 = -di2\n",
    "    #charge neutrality\n",
    "    dV1 = -i1/s\n",
    "    #solids ohms law\n",
    "    dV2 = -i2/K\n",
    "    #liquids ohms law\n",
    "\n",
    "    return di1, di2, dV1, dV2\n"
   ]
  },
  {
   "cell_type": "code",
   "execution_count": 5,
   "metadata": {
    "collapsed": true
   },
   "outputs": [],
   "source": [
    "\n",
    "def BC_c(ya, yb):\n",
    "    return (yb[0] - I), (ya[1] - I), ya[3], yb[1]\n",
    "\n",
    "def BC_a(ya, yb):\n",
    "    return (yb[1] - I), (ya[0] - I), ya[2], yb[0]"
   ]
  },
  {
   "cell_type": "code",
   "execution_count": 6,
   "metadata": {},
   "outputs": [],
   "source": [
    "# x = np.linspace(0, L, 10)\n",
    "# y = np.ones([4, 10])\n",
    "\n",
    "# # y[:,0] = [0., I, .1, .1]\n",
    "# # y[:,-1] = [I, 0., .1, .1]\n",
    "\n",
    "# linear_IV = solve_bvp(linearbattfunc, BC_a, x, y)\n",
    "# Ta_IV = solve_bvp(Tafelfunc_a, BC_a, x, y)\n",
    "# Tc_IV = solve_bvp(Tafelfunc_c, BC_c, x, y)\n",
    "\n",
    "# x_plot = np.linspace(0, L, 100)\n",
    "\n",
    "# plt.figure(0)\n",
    "# for i in range(2):\n",
    "# #     plt.plot(x, y[i])\n",
    "# #     plt.plot(x_plot, linear_IV.sol(x_plot)[i])\n",
    "#     plt.plot(x_plot, Ta_IV.sol(x_plot)[i], color = 'r')\n",
    "#     plt.plot(x_plot, Tc_IV.sol(x_plot)[i], color = 'b')\n",
    "    \n",
    "# plt.figure(1)\n",
    "# for i in range(2, 4):\n",
    "# #     plt.plot(x_plot, linear_IV.sol(x_plot)[i])\n",
    "#     plt.plot(x_plot, Ta_IV.sol(x_plot)[i], color = 'r')\n",
    "#     plt.plot(x_plot, Tc_IV.sol(x_plot)[i], color = 'b')"
   ]
  },
  {
   "cell_type": "code",
   "execution_count": 7,
   "metadata": {},
   "outputs": [
    {
     "ename": "NameError",
     "evalue": "name 'linear_IV' is not defined",
     "output_type": "error",
     "traceback": [
      "\u001b[0;31m---------------------------------------------------------------------------\u001b[0m",
      "\u001b[0;31mNameError\u001b[0m                                 Traceback (most recent call last)",
      "\u001b[0;32m<ipython-input-7-41488a42d841>\u001b[0m in \u001b[0;36m<module>\u001b[0;34m()\u001b[0m\n\u001b[0;32m----> 1\u001b[0;31m \u001b[0mprint\u001b[0m\u001b[0;34m(\u001b[0m\u001b[0mlinear_IV\u001b[0m\u001b[0;34m.\u001b[0m\u001b[0msol\u001b[0m\u001b[0;34m(\u001b[0m\u001b[0mx_plot\u001b[0m\u001b[0;34m)\u001b[0m\u001b[0;34m[\u001b[0m\u001b[0;36m3\u001b[0m\u001b[0;34m]\u001b[0m \u001b[0;34m-\u001b[0m \u001b[0mlinear_IV\u001b[0m\u001b[0;34m.\u001b[0m\u001b[0msol\u001b[0m\u001b[0;34m(\u001b[0m\u001b[0mx_plot\u001b[0m\u001b[0;34m)\u001b[0m\u001b[0;34m[\u001b[0m\u001b[0;36m2\u001b[0m\u001b[0;34m]\u001b[0m\u001b[0;34m)\u001b[0m\u001b[0;34m\u001b[0m\u001b[0m\n\u001b[0m",
      "\u001b[0;31mNameError\u001b[0m: name 'linear_IV' is not defined"
     ]
    }
   ],
   "source": [
    "print(linear_IV.sol(x_plot)[3] - linear_IV.sol(x_plot)[2])"
   ]
  },
  {
   "cell_type": "markdown",
   "metadata": {
    "collapsed": true
   },
   "source": [
    "# Anode and cathode modeling"
   ]
  },
  {
   "cell_type": "code",
   "execution_count": null,
   "metadata": {
    "collapsed": true
   },
   "outputs": [],
   "source": [
    "#i1(0) = 0, i1(L) = I, i1(2L) = 0\n",
    "#i2(0) = I, i2(L) = 0, i2(2L) = I\n",
    "#v1(L) = 0\n",
    "\n",
    "def BCOverall(ya, yb):\n",
    "    return (yb[0] - I), (ya[1] - I), ya[3], yb[1], (yb[5] - I), (ya[4] - I), yb[7] - ya[3], yb[4]\n",
    "#     return (ya[0] - I), yb[0], (yb[1] - I), ya[2]# (yb[4] - I), ya[4], (ya[5] - I), ya[2], (ya[6])\n",
    "    \n",
    "def TafelOverall(x, IV):\n",
    "    \"\"\"\n",
    "    uses Tafel kinetics\n",
    "    \"\"\"\n",
    "#     i1, i2, V1, V2 = IV\n",
    "\n",
    "#     taff = -ac*n*F/(R*T)*(V1-V2)\n",
    "\n",
    "#     di2 = -a*io*np.exp(taff)\n",
    "#     #Kinetics\n",
    "#     di1 = -di2\n",
    "#     #charge neutrality\n",
    "#     dV1 = -i1/s\n",
    "#     #solids ohms law\n",
    "#     dV2 = -i2/K\n",
    "#     #liquids ohms law\n",
    "\n",
    "#     return di1, di2, dV1, dV2\n",
    "    is_p, ie_p, Vs_p, Ve_p, is_n, ie_n, Vs_n, Ve_n = IV\n",
    "    #n represents anode attributes, p represents cathode attributes\n",
    "    \n",
    "    taff_p = -ac*n*F/(R*T)*(Vs_p - Ve_p)\n",
    "    taff_n = aa*n*F/(R*T)*(Vs_n - Ve_n)\n",
    "    \n",
    "    die_p = -a*io*np.exp(taff_p)\n",
    "    die_n = a*io*np.exp(taff_n)\n",
    "    #Kinetics\n",
    "    dis_p = -die_p\n",
    "    dis_n = -die_n\n",
    "    #charge neutrality\n",
    "    dVs_p = -is_p/s\n",
    "    dVs_n = -is_n/s\n",
    "    #solids ohms law\n",
    "    dVe_p = -ie_p/K\n",
    "    dVe_n = -ie_n/K\n",
    "    #liquids ohms law\n",
    "\n",
    "    return dis_p, die_p, dVs_p, dVe_p, dis_n, die_n, dVs_n, dVe_n\n",
    "\n"
   ]
  },
  {
   "cell_type": "code",
   "execution_count": null,
   "metadata": {},
   "outputs": [],
   "source": [
    "N = 10\n",
    "x = np.linspace(0, L, N)\n",
    "# x2 = np.linspace(0,L, N)\n",
    "y = np.zeros([8, N])\n",
    "\n",
    "# y[:,0] = [0., I, .1, .1]\n",
    "# y[:,-1] = [I, 0., .1, .1]\n",
    "\n",
    "Mashed = solve_bvp(TafelOverall, BCOverall, x, y)\n",
    "# Ta_IV = solve_bvp(Tafelfunc_a, BC_a, x, y)\n",
    "# Tc_IV = solve_bvp(Tafelfunc_c, BC_c, x, y)\n",
    "\n",
    "x_plot = np.linspace(0, L, 100)\n",
    "\n",
    "plt.figure()\n",
    "for i in range(2):\n",
    "#     plt.plot(x, y[i])\n",
    "#     plt.plot(x_plot, linear_IV.sol(x_plot)[i])\n",
    "    plt.plot(x_plot, Mashed.sol(x_plot)[i], color = 'r', label = i)\n",
    "    plt.legend(loc = 'best')"
   ]
  },
  {
   "cell_type": "code",
   "execution_count": null,
   "metadata": {
    "collapsed": true
   },
   "outputs": [],
   "source": [
    "a = np.append(Mashed.sol(x_plot)[4], Mashed.sol(x_plot)[0])\n",
    "b = np.append(Mashed.sol(x_plot)[5], Mashed.sol(x_plot)[1])\n",
    "c = np.append(Mashed.sol(x_plot)[6], Mashed.sol(x_plot)[2])\n",
    "d = np.append(Mashed.sol(x_plot)[7], Mashed.sol(x_plot)[3])"
   ]
  },
  {
   "cell_type": "code",
   "execution_count": null,
   "metadata": {},
   "outputs": [],
   "source": [
    "x_plot2 = np.linspace(0, 2*L, 200)\n",
    "data = [a,b,c,d]\n",
    "labels = ['solid current','electrolyte current','solid voltage','electrolyte voltage']\n",
    "for i in range(4):\n",
    "    plt.plot(x_plot2, data[i], label = labels[i], marker = '.', linestyle = 'none')\n",
    "    plt.legend(loc = 'best')"
   ]
  },
  {
   "cell_type": "code",
   "execution_count": 8,
   "metadata": {
    "collapsed": true
   },
   "outputs": [],
   "source": [
    "Vwall1 = 1\n",
    "Vwall2 = 1\n",
    "\n",
    "def BCCath(ya, yb):\n",
    "    return (yb[0] - I), (ya[1] - I), ya[3] - Vwall_2, yb[1]\n",
    "#     return (ya[0] - I), yb[0], (yb[1] - I), ya[2]# (yb[4] - I), ya[4], (ya[5] - I), ya[2], (ya[6])\n",
    "\n",
    "def BCAn(ya, yb):\n",
    "    return (yb[1] - I), (ya[0] - I), yb[3], yb[0]\n",
    "#     return (ya[0] - I), yb[0], (yb[1] - I), ya[2]# (yb[4] - I), ya[4], (ya[5] - I), ya[2], (ya[6])\n",
    "      \n",
    "def TafelCath(x, IV):\n",
    "    \"\"\"\n",
    "    uses Tafel kinetics\n",
    "    \"\"\"\n",
    "    is_p, ie_p, Vs_p, Ve_p = IV\n",
    "    #n represents anode attributes, p represents cathode attributes\n",
    "    \n",
    "    taff_p = -ac*n*F/(R*T)*(Vs_p - Ve_p)\n",
    "    die_p = -a*io*np.exp(taff_p)\n",
    "    #Kinetics\n",
    "    \n",
    "    dis_p = -die_p\n",
    "    #charge neutrality\n",
    "    \n",
    "    dVs_p = -is_p/s\n",
    "    #solids ohms law\n",
    "    \n",
    "    dVe_p = -ie_p/K\n",
    "    #liquids ohms law\n",
    "\n",
    "    return dis_p, die_p, dVs_p, dVe_p\n",
    "\n",
    "def TafelAn(x, IV):\n",
    "    \"\"\"\n",
    "    uses Tafel kinetics\n",
    "    \"\"\"\n",
    "    \n",
    "    is_n, ie_n, Vs_n, Ve_n = IV\n",
    "    #n represents anode attributes, p represents cathode attributes\n",
    "    \n",
    "    taff_n = aa*n*F/(R*T)*(Vs_n - Ve_n)\n",
    "    die_n = a*io*np.exp(taff_n)\n",
    "    #Kinetics\n",
    "    \n",
    "    dis_n = -die_n\n",
    "    #charge neutrality\n",
    "    \n",
    "    dVs_n = -is_n/s\n",
    "    #solids ohms law\n",
    "    \n",
    "    dVe_n = -ie_n/K\n",
    "    #liquids ohms law\n",
    "\n",
    "    return dis_n, die_n, dVs_n, dVe_n"
   ]
  },
  {
   "cell_type": "code",
   "execution_count": 9,
   "metadata": {},
   "outputs": [
    {
     "data": {
      "text/plain": [
       "<matplotlib.legend.Legend at 0x115235e10>"
      ]
     },
     "execution_count": 9,
     "metadata": {},
     "output_type": "execute_result"
    },
    {
     "data": {
      "image/png": "[encoded data removed]",
      "text/plain": [
       "<matplotlib.figure.Figure at 0x111559828>"
      ]
     },
     "metadata": {},
     "output_type": "display_data"
    }
   ],
   "source": [
    "N = 10\n",
    "N_sep = 20\n",
    "x_cath = np.linspace(L + L_sep, 2*L + L_sep, N)\n",
    "x_an = np.linspace(0, L, N)\n",
    "y = np.zeros([4, N])\n",
    "\n",
    "x_plot_cath = np.linspace(L + L_sep, L_sep + 2*L, 100)\n",
    "x_plot_an = np.linspace(0, L, 100)\n",
    "\n",
    "An = solve_bvp(TafelAn, BCAn, x_an, y)\n",
    "Vwall_1 = An.sol(x_plot_an)[3][-1]\n",
    "\n",
    "x_sep = np.linspace(L, L + L_sep, N_sep)\n",
    "is_sep = np.ones(N_sep) * An.sol(x_plot_an)[0][-1]\n",
    "ie_sep = np.ones(N_sep) * An.sol(x_plot_an)[1][-1]\n",
    "Ve_sep = np.zeros(N_sep)\n",
    "Ve_sep[0] = Vwall_1\n",
    "for i in range(N_sep):\n",
    "    Ve_sep[i] = Vwall_1 - (x_sep[i] - L) * Resist_sep\n",
    "\n",
    "Vwall_2 = Ve_sep[-1]\n",
    "Cath = solve_bvp(TafelCath, BCCath, x_cath, y)\n",
    "# Ta_IV = solve_bvp(Tafelfunc_a, BC_a, x, y)\n",
    "# Tc_IV = solve_bvp(Tafelfunc_c, BC_c, x, y)\n",
    "\n",
    "for i in range(4):\n",
    "    plt.plot(x_plot_cath, Cath.sol(x_plot_cath)[i], color = 'r', label = 'cathode')\n",
    "    plt.plot(x_plot_an, An.sol(x_plot_an)[i], color = 'b', label = 'anode')\n",
    "\n",
    "plt.plot(x_sep, Ve_sep, color = 'g')\n",
    "plt.plot(x_sep, is_sep, color = 'g')\n",
    "plt.plot(x_sep, ie_sep, color = 'g', label = 'separator')\n",
    "\n",
    "plt.legend(loc = 'best')"
   ]
  },
  {
   "cell_type": "code",
   "execution_count": null,
   "metadata": {
    "collapsed": true
   },
   "outputs": [],
   "source": []
  },
  {
   "cell_type": "code",
   "execution_count": null,
   "metadata": {
    "collapsed": true
   },
   "outputs": [],
   "source": []
  }
 ],
 "metadata": {
  "kernelspec": {
   "display_name": "Python [default]",
   "language": "python",
   "name": "python3"
  },
  "language_info": {
   "codemirror_mode": {
    "name": "ipython",
    "version": 3
   },
   "file_extension": ".py",
   "mimetype": "text/x-python",
   "name": "python",
   "nbconvert_exporter": "python",
   "pygments_lexer": "ipython3",
   "version": "3.6.1"
  }
 },
 "nbformat": 4,
 "nbformat_minor": 2
}
