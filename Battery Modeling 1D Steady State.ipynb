{
 "cells": [
  {
   "cell_type": "code",
   "execution_count": 1,
   "metadata": {
    "collapsed": true
   },
   "outputs": [],
   "source": [
    "import scipy as sp\n",
    "import numpy as np\n",
    "import matplotlib.pyplot as plt\n",
    "from scipy.integrate import odeint\n",
    "from scipy.optimize import fsolve\n",
    "%matplotlib inline"
   ]
  },
  {
   "cell_type": "code",
   "execution_count": 2,
   "metadata": {
    "collapsed": true
   },
   "outputs": [],
   "source": [
    "# initializing constants\n",
    "K = 0.06    #liquid conductivity\n",
    "s = 20.     #solid conductivity\n",
    "a = 23300.  #area/volume\n",
    "ac = 0.5    #alpha cathode\n",
    "aa = 0.5    #alpha anode\n",
    "io = 2e-7   #exchange current density\n",
    "L = 1.      #length\n",
    "n = 1       #exchanged electrons\n",
    "F = 96485   #Faraday's constant\n",
    "R = 8.314   #gas constant\n",
    "T = 298     #temperature\n",
    "I = 0.1     #total current density\n",
    "\n",
    "\n",
    "#graph analytically\n",
    "X = np.linspace(0., L, 100)\n",
    "Y=y = X/L\n",
    "v = L*np.sqrt(a*io*(n*F)/(R*T)*(K + s)/(K*s))\n",
    "i2 = I * K/(K + s)*(1 + (s*(K**-1)*np.sinh(v*(1-y)) - np.sinh(v*y))/np.sinh(v))"
   ]
  },
  {
   "cell_type": "code",
   "execution_count": 3,
   "metadata": {},
   "outputs": [
    {
     "data": {
      "text/plain": [
       "[<matplotlib.lines.Line2D at 0x113568dd8>]"
      ]
     },
     "execution_count": 3,
     "metadata": {},
     "output_type": "execute_result"
    },
    {
     "data": {
      "image/png": "[encoded data removed]",
      "text/plain": [
       "<matplotlib.figure.Figure at 0x1089c44a8>"
      ]
     },
     "metadata": {},
     "output_type": "display_data"
    }
   ],
   "source": [
    "plt.plot(X, i2)"
   ]
  },
  {
   "cell_type": "code",
   "execution_count": 4,
   "metadata": {
    "collapsed": true
   },
   "outputs": [],
   "source": [
    "#solve numerically\n",
    "\n",
    "#analytically combined equation\n",
    "def simplebattfunc(i, x):\n",
    "    i0, i1 = i\n",
    "    di = i1\n",
    "    d2i = a*io*(n*F)/(R*T)*(-I/s + i0*(1/s + 1/K))\n",
    "    return di, d2i\n",
    "\n",
    "#systems of differential equations with drop-in replacements possible\n",
    "def linearbattfunc(IV, x):\n",
    "    i1, i2, V1, V2 = IV\n",
    "    di2 = a*io*(n*F)/(R*T)*(V1 - V2)\n",
    "    di1 = -di2\n",
    "    dV1 = -i1/s\n",
    "    dV2 = -i2/K\n",
    "    return di1, di2, dV1, dV2\n",
    "\n",
    "def BVbattfunc(IV, x):\n",
    "    i1, i2, V1, V2 = IV\n",
    "    di2 = -a*io*np.exp((n*F)/(R*T)*-ac*(V1 - V2))\n",
    "    di1 = -di2\n",
    "    dV1 = -i1/s\n",
    "    dV2 = -i2/K\n",
    "    return di1, di2, dV1, dV2"
   ]
  },
  {
   "cell_type": "code",
   "execution_count": 5,
   "metadata": {},
   "outputs": [],
   "source": [
    "def objective(u2_0):\n",
    "    \"\"\"\n",
    "    The thing we want to set equal to zero\n",
    "    \"\"\"\n",
    "    \n",
    "    U = odeint(simplebattfunc, [I, u2_0], X)\n",
    "#     print(U[-1,0])\n",
    "    return U[-1,0]\n",
    "\n",
    "\n",
    "def objectiveLinear(V2o):\n",
    "    \"\"\"\n",
    "    Shooting method for solving linear kinetic system\n",
    "    \"\"\"\n",
    "    \n",
    "    V = odeint(linearbattfunc, [0, I, 0, V2o], X)\n",
    "    dV = np.diff(V[:,3])/np.diff(X)\n",
    "    return dV[-1]\n",
    "\n",
    "\n",
    "def objectiveBV(V2o):\n",
    "    \"\"\"\n",
    "    Shooting method for solving Butler-Volmer kinetics system (Tafel)\n",
    "    \"\"\"\n",
    "    \n",
    "    V = odeint(BVbattfunc, [0, I, 0, V2o], X)\n",
    "    dV = np.diff(V[:,3])/np.diff(X)\n",
    "#     print(dV[-1])\n",
    "    return dV[-1]"
   ]
  },
  {
   "cell_type": "code",
   "execution_count": 10,
   "metadata": {},
   "outputs": [
    {
     "name": "stdout",
     "output_type": "stream",
     "text": [
      "0.29354480019\n",
      "0.29354480019\n",
      "0.29354480019\n",
      "0.293544823854\n",
      "1.19613405422e-09\n",
      "-1.87657615142e-13\n"
     ]
    },
    {
     "data": {
      "text/plain": [
       "<matplotlib.legend.Legend at 0x113ac7be0>"
      ]
     },
     "execution_count": 10,
     "metadata": {},
     "output_type": "execute_result"
    },
    {
     "data": {
      "image/png": "[encoded data removed]",
      "text/plain": [
       "<matplotlib.figure.Figure at 0x1101f3c88>"
      ]
     },
     "metadata": {},
     "output_type": "display_data"
    }
   ],
   "source": [
    "u2_0, = fsolve(objective, 0)\n",
    "simple_i = odeint(simplebattfunc, [I, u2_0], X)\n",
    "simple_i1 = I - simple_i[:,0]\n",
    "\n",
    "linear_V2_0 = fsolve(objectiveLinear, 0)\n",
    "linear_IV = odeint(linearbattfunc, [0, I, 0, linear_V2_0], X)\n",
    "\n",
    "# BV_V2_0, = fsolve(objectiveBV, 0)\n",
    "# BV_IV = odeint(BVbattfunc, [0, I, 0, BV_V2_0], X)\n",
    "\n",
    "plt.plot(X, simple_i[:,0], label = 'ionic linear simple')\n",
    "plt.plot(X, simple_i1, label = 'electronic linear simple')\n",
    "plt.plot(X, linear_IV[:,0], label = 'ionic linear')\n",
    "plt.plot(X, linear_IV[:,1], label = 'electronic linear')\n",
    "# plt.plot(X, BV_IV[:,0], label = 'ionic Tafel')\n",
    "# plt.plot(X, BV_IV[:,1], label = 'electronic Tafel')\n",
    "plt.legend(loc = 'best')"
   ]
  },
  {
   "cell_type": "code",
   "execution_count": 7,
   "metadata": {
    "collapsed": true
   },
   "outputs": [],
   "source": [
    "plt.plot?"
   ]
  },
  {
   "cell_type": "code",
   "execution_count": null,
   "metadata": {
    "collapsed": true
   },
   "outputs": [],
   "source": []
  }
 ],
 "metadata": {
  "kernelspec": {
   "display_name": "Python 3",
   "language": "python",
   "name": "python3"
  },
  "language_info": {
   "codemirror_mode": {
    "name": "ipython",
    "version": 3
   },
   "file_extension": ".py",
   "mimetype": "text/x-python",
   "name": "python",
   "nbconvert_exporter": "python",
   "pygments_lexer": "ipython3",
   "version": "3.6.1"
  }
 },
 "nbformat": 4,
 "nbformat_minor": 2
}
