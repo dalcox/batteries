{
 "cells": [
  {
   "cell_type": "code",
   "execution_count": 1,
   "metadata": {
    "collapsed": true
   },
   "outputs": [],
   "source": [
    "import scipy as sp\n",
    "import numpy as np\n",
    "import matplotlib.pyplot as plt\n",
    "from scipy.integrate import odeint\n",
    "from scipy.optimize import fsolve\n",
    "%matplotlib inline"
   ]
  },
  {
   "cell_type": "code",
   "execution_count": 2,
   "metadata": {
    "collapsed": true
   },
   "outputs": [],
   "source": [
    "# initializing constants\n",
    "K = 0.06    #liquid conductivity\n",
    "s = 20.     #solid conductivity\n",
    "a = 23300.  #area/volume\n",
    "ac = 0.5    #alpha cathode\n",
    "aa = 0.5    #alpha anode\n",
    "io = 2e-7   #exchange current density\n",
    "L = 1.      #length\n",
    "n = 1       #exchanged electrons\n",
    "F = 96485   #Faraday's constant\n",
    "R = 8.314   #gas constant\n",
    "T = 298     #temperature\n",
    "I = 0.1     #total current density\n",
    "\n",
    "\n",
    "#graph analytically\n",
    "X = np.linspace(0., L, 200)\n",
    "Y=y = X/L\n",
    "v = L*np.sqrt(a*io*(n*F)/(R*T)*(K + s)/(K*s))\n",
    "i2 = I * K/(K + s)*(1 + (s*(K**-1)*np.sinh(v*(1-y)) - np.sinh(v*y))/np.sinh(v))"
   ]
  },
  {
   "cell_type": "code",
   "execution_count": 3,
   "metadata": {},
   "outputs": [
    {
     "data": {
      "text/plain": [
       "[<matplotlib.lines.Line2D at 0x10d652208>]"
      ]
     },
     "execution_count": 3,
     "metadata": {},
     "output_type": "execute_result"
    },
    {
     "data": {
      "image/png": "[encoded data removed]",
      "text/plain": [
       "<matplotlib.figure.Figure at 0x102565dd8>"
      ]
     },
     "metadata": {},
     "output_type": "display_data"
    }
   ],
   "source": [
    "plt.plot(X, i2)"
   ]
  },
  {
   "cell_type": "code",
   "execution_count": 4,
   "metadata": {
    "collapsed": true
   },
   "outputs": [],
   "source": [
    "#solve numerically\n",
    "\n",
    "#analytically combined equation\n",
    "def simplebattfunc(i, x):\n",
    "    i0, i1 = i\n",
    "    di = i1\n",
    "    d2i = a*io*(n*F)/(R*T)*(-I/s + i0*(1/s + 1/K))\n",
    "    return di, d2i\n",
    "\n",
    "#systems of differential equations with drop-in replacements possible\n",
    "def linearbattfunc(x, IV):\n",
    "    i1, i2, V1, V2 = IV\n",
    "    di2 = a*io*(n*F)/(R*T)*(V1 - V2)\n",
    "    di1 = -di2\n",
    "    dV1 = -i1/s\n",
    "    dV2 = -i2/K\n",
    "    return di1, di2, dV1, dV2\n",
    "\n",
    "\n",
    "\n",
    "def BVbattfunc(x, IV):\n",
    "    i1, i2, V1, V2 = IV\n",
    "    di2 = a*io*(np.exp((n*F)/(R*T)*aa*(V1 - V2)) - np.exp((n*F)/(R*T)*-ac*(V1 - V2)))\n",
    "#     di2 = a*io*(n*F)/(R*T)*(V1 - V2)\n",
    "    di1 = -di2\n",
    "    dV1 = -i1/s\n",
    "    dV2 = -i2/K\n",
    "    return di1, di2, dV1, dV2\n",
    "\n",
    "def Tafelfunc(IV, x):\n",
    "    \"\"\"\n",
    "    uses Tafel kinetics\n",
    "    \"\"\"\n",
    "    i1, i2, V1, V2 = IV\n",
    "    \n",
    "    taff = -ac*n*F/(R*T)*(V1-V2)\n",
    "    \n",
    "    #di2 = -a*io*np.exp(-ac*n*F/(R*T)*(V1 - V2))\n",
    "    di2 = -a*io*np.exp(taff)\n",
    "    #di2 = -a*io*(1 + taff + (taff**2)/2 + (taff**3)/6 + (taff**4)/24 + (taff**5)/120 + (taff**6)/720)\n",
    "    di1 = -di2\n",
    "    dV1 = -i1/s\n",
    "    dV2 = -i2/K\n",
    "    \n",
    "    return di1, di2, dV1, dV2"
   ]
  },
  {
   "cell_type": "code",
   "execution_count": 5,
   "metadata": {
    "collapsed": true
   },
   "outputs": [],
   "source": [
    "# def objective(u2_0):\n",
    "#     \"\"\"\n",
    "#     The thing we want to set equal to zero\n",
    "#     \"\"\"\n",
    "#     U = odeint(simplebattfunc, [I, u2_0], X)\n",
    "# #     print(U[-1,0])\n",
    "#     return U[-1,0]\n",
    "\n",
    "# def objectiveLinear(V2o):\n",
    "#     \"\"\"\n",
    "#     Shooting method for solving linear kinetic system\n",
    "#     \"\"\"\n",
    "#     V = odeint(linearbattfunc, [0., I, 0., V2o], X)\n",
    "#     dV = np.diff(V[:,3])/np.diff(X)\n",
    "# #     print(dV[-1])\n",
    "#     return dV[-1]\n",
    "\n",
    "# def objectiveBV(V2o):\n",
    "#     \"\"\"\n",
    "#     Shooting method for solving Butler-Volmer kinetics system (Tafel)\n",
    "#     \"\"\"\n",
    "#     V = odeint(BVbattfunc, [0., I, 0., V2o], X)\n",
    "#     dV = np.diff(V[:,3])/np.diff(X)\n",
    "# #     print(dV[-1])\n",
    "#     return dV[-1]\n",
    "\n",
    "# def ObjectiveTafel(IVo):\n",
    "#     \"\"\"\n",
    "#     Solves initial condition for tafel kinetic problem\n",
    "#     \"\"\"\n",
    "#     i1o, V2o = IVo\n",
    "#     U = odeint(Tafelfunc, [i1o, I, 0, V2o], X)\n",
    "#     V = U[:,3]\n",
    "#     dV = np.diff(V)/np.diff(X)\n",
    "#     print(i1o, V2o)\n",
    "    \n",
    "#     return U[0,0], dV[-1]"
   ]
  },
  {
   "cell_type": "code",
   "execution_count": 6,
   "metadata": {},
   "outputs": [],
   "source": [
    "# u2_0, = fsolve(objective, 0.)\n",
    "# simple_i = odeint(simplebattfunc, [I, u2_0], X)\n",
    "# # simple_i1 = I - simple_i[:,0]\n",
    "\n",
    "# # linear_V2_0 = fsolve(objectiveLinear, 0.)\n",
    "# # linear_IV = odeint(linearbattfunc, [0., I, 0., linear_V2_0], X) #, full_output = 1)\n",
    "\n",
    "# # BV_i1_0, BV_V2_0 = fsolve(bjectiveTafel, [0,0])\n",
    "# # BV_IV = odeint(BVbattfunc, [0., I, 0, BV_V2_0], X)\n",
    "# T_i1o, T_V2o = fsolve(ObjectiveTafel, [0.1, 0.299], maxfev = 50)\n",
    "# T_IV = odeint(Tafelfunc, [T_i1o, I, 0, T_V2o], X) #, full_output = 1)\n",
    "# # print(T_IV)\n",
    "\n",
    "# # plt.plot(X, simple_i[:,0], label = 'ionic linear simple')\n",
    "# # plt.plot(X, simple_i1, label = 'electronic linear simple')\n",
    "\n",
    "# plt.figure()\n",
    "# # plt.plot(X, linear_IV[:,0], '--', color = 'r', label = 'electronic linear')\n",
    "# # plt.plot(X, linear_IV[:,1], '--',color = 'b' ,label = 'ionic linear')\n",
    "# plt.plot(X, T_IV[:,0], color = 'r', label = 'electronic Tafel')\n",
    "# plt.plot(X, T_IV[:,1], color = 'b', label = 'ionic Tafel')\n",
    "# plt.plot(X, T_IV[:,2], color = 'r', label = 'electronic Tafel')\n",
    "# plt.plot(X, T_IV[:,3], color = 'b', label = 'ionic Tafel')\n",
    "\n",
    "# plt.legend(loc = 'best')"
   ]
  },
  {
   "cell_type": "code",
   "execution_count": null,
   "metadata": {
    "collapsed": true
   },
   "outputs": [],
   "source": []
  },
  {
   "cell_type": "code",
   "execution_count": null,
   "metadata": {
    "collapsed": true
   },
   "outputs": [],
   "source": []
  },
  {
   "cell_type": "code",
   "execution_count": 7,
   "metadata": {
    "collapsed": true
   },
   "outputs": [],
   "source": [
    "def Tafelfunc(IV, x):\n",
    "    \"\"\"\n",
    "    uses Tafel kinetics\n",
    "    \"\"\"\n",
    "    i1, i2, V1, V2 = IV\n",
    "    \n",
    "    di2 = -a*io*np.exp(-ac*n*F/(R*T)*(V1 - V2))\n",
    "    di1 = -di2\n",
    "    dV1 = -i1/s\n",
    "    dV2 = -i2/K\n",
    "    \n",
    "    return di1, di2, dV1, dV2\n",
    "\n",
    "def ObjectiveTafel(IVo):\n",
    "    \"\"\"\n",
    "    Solves initial condition for tafel kinetic problem\n",
    "    \"\"\"\n",
    "    i1o, V2o = IVo\n",
    "    U = odeint(Tafelfunc, [i1o, I, 0, V2o], X)\n",
    "    V = U[:,3]\n",
    "    dV = np.diff(V)/np.diff(X)\n",
    "    \n",
    "    return U[0,0], dV[-1]"
   ]
  },
  {
   "cell_type": "code",
   "execution_count": 8,
   "metadata": {
    "collapsed": true
   },
   "outputs": [],
   "source": [
    "from scipy.integrate import solve_bvp\n",
    "\n",
    "def BC(ya, yb):\n",
    "    return (yb[0] - I), (ya[1] - I), ya[2], yb[1]\n",
    "\n",
    "def linearbattfunc(x, IV):\n",
    "    i1, i2, V1, V2 = IV\n",
    "    di2 = a*io*(n*F)/(R*T)*(V1 - V2)\n",
    "    di1 = -di2\n",
    "    dV1 = -i1/s\n",
    "    dV2 = -i2/K\n",
    "    return di1, di2, dV1, dV2\n",
    "\n",
    "def Tafelfunc(x, IV):\n",
    "    \"\"\"\n",
    "    uses Tafel kinetics\n",
    "    \"\"\"\n",
    "    i1, i2, V1, V2 = IV\n",
    "    \n",
    "    taff = -ac*n*F/(R*T)*(V1-V2)\n",
    "    \n",
    "    #di2 = -a*io*np.exp(-ac*n*F/(R*T)*(V1 - V2))\n",
    "    di2 = -a*io*np.exp(taff)\n",
    "    #di2 = -a*io*(1 + taff + (taff**2)/2 + (taff**3)/6 + (taff**4)/24 + (taff**5)/120 + (taff**6)/720)\n",
    "    di1 = -di2\n",
    "    dV1 = -i1/s\n",
    "    dV2 = -i2/K\n",
    "    \n",
    "    return di1, di2, dV1, dV2"
   ]
  },
  {
   "cell_type": "code",
   "execution_count": 9,
   "metadata": {},
   "outputs": [
    {
     "data": {
      "image/png": "[encoded data removed]",
      "text/plain": [
       "<matplotlib.figure.Figure at 0x10db4c860>"
      ]
     },
     "metadata": {},
     "output_type": "display_data"
    }
   ],
   "source": [
    "x = np.linspace(0, L, 10)\n",
    "y = np.zeros([4,10])\n",
    "y[:,0] = [0., I, .1, .1]\n",
    "y[:,-1] = [I, 0., .1, .1]\n",
    "\n",
    "linear_IV = solve_bvp(BVbattfunc, BC, x, y)\n",
    "\n",
    "x_plot = np.linspace(0, L, 100)\n",
    "\n",
    "for i in range(4):\n",
    "#     plt.plot(x, y[i])\n",
    "    plt.plot(x_plot, linear_IV.sol(x_plot)[i])"
   ]
  },
  {
   "cell_type": "code",
   "execution_count": null,
   "metadata": {
    "collapsed": true
   },
   "outputs": [],
   "source": []
  }
 ],
 "metadata": {
  "kernelspec": {
   "display_name": "Python [default]",
   "language": "python",
   "name": "python3"
  },
  "language_info": {
   "codemirror_mode": {
    "name": "ipython",
    "version": 3
   },
   "file_extension": ".py",
   "mimetype": "text/x-python",
   "name": "python",
   "nbconvert_exporter": "python",
   "pygments_lexer": "ipython3",
   "version": "3.6.1"
  }
 },
 "nbformat": 4,
 "nbformat_minor": 2
}
