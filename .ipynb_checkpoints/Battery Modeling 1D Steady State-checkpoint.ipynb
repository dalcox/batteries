{
 "cells": [
  {
   "cell_type": "code",
   "execution_count": 1,
   "metadata": {},
   "outputs": [],
   "source": [
    "import scipy as sp\n",
    "import numpy as np\n",
    "import BATT as b\n",
    "import matplotlib.pyplot as plt\n",
    "from scipy.integrate import odeint\n",
    "from scipy.optimize import fsolve\n",
    "%matplotlib inline"
   ]
  },
  {
   "cell_type": "code",
   "execution_count": 2,
   "metadata": {
    "collapsed": true
   },
   "outputs": [],
   "source": [
    "# initializing constants\n",
    "K = 0.06    #liquid conductivity\n",
    "s = 20.     #solid conductivity\n",
    "a = 23300.  #area/volume\n",
    "ac = 0.5    #alpha cathode\n",
    "aa = 0.5    #alpha anode\n",
    "io = 2e-7   #exchange current density\n",
    "L = 1.      #length\n",
    "n = 1       #exchanged electrons\n",
    "F = 96485   #Faraday's constant\n",
    "R = 8.314   #gas constant\n",
    "T = 298     #temperature\n",
    "I = 0.1     #total current density\n",
    "\n",
    "\n",
    "# graph analytically\n",
    "# X = np.linspace(0., L, 200)\n",
    "# Y=y = X/L\n",
    "# v = L*np.sqrt(a*io*(n*F)/(R*T)*(K + s)/(K*s))\n",
    "# i2 = I * K/(K + s)*(1 + (s*(K**-1)*np.sinh(v*(1-y)) - np.sinh(v*y))/np.sinh(v))"
   ]
  },
  {
   "cell_type": "code",
   "execution_count": 3,
   "metadata": {
    "collapsed": true
   },
   "outputs": [],
   "source": [
    "def Tafelfunc(IV, x):\n",
    "    \"\"\"\n",
    "    uses Tafel kinetics\n",
    "    \"\"\"\n",
    "    i1, i2, V1, V2 = IV\n",
    "    \n",
    "    di2 = -a*io*np.exp(-ac*n*F/(R*T)*(V1 - V2))\n",
    "    di1 = -di2\n",
    "    dV1 = -i1/s\n",
    "    dV2 = -i2/K\n",
    "    \n",
    "    return di1, di2, dV1, dV2\n",
    "\n",
    "def ObjectiveTafel(IVo):\n",
    "    \"\"\"\n",
    "    Solves initial condition for tafel kinetic problem\n",
    "    \"\"\"\n",
    "    i1o, V2o = IVo\n",
    "    U = odeint(Tafelfunc, [i1o, I, 0, V2o], X)\n",
    "    V = U[:,3]\n",
    "    dV = np.diff(V)/np.diff(X)\n",
    "    \n",
    "    return U[0,0], dV[-1]"
   ]
  },
  {
   "cell_type": "code",
   "execution_count": 8,
   "metadata": {
    "collapsed": true
   },
   "outputs": [],
   "source": [
    "#analytically combined equation\n",
    "def simplebattfunc(x, i):\n",
    "    \"\"\"\n",
    "    Analytically solved current and voltage within electrode\n",
    "    \"\"\"\n",
    "    i0, i1 = i\n",
    "    di = i1\n",
    "    d2i = a*io*(n*F)/(R*T)*(-I/s + i0*(1/s + 1/K))\n",
    "    return di, d2i\n",
    "\n",
    "#systems of differential equations with drop-in replacements possible\n",
    "def linearbattfunc(x, IV):\n",
    "    \"\"\"\n",
    "    Linear current and voltage within single electrode\n",
    "    \"\"\"\n",
    "    i1, i2, V1, V2 = IV\n",
    "    di2 = a*io*(n*F)/(R*T)*(V1 - V2)\n",
    "    #Kinetics\n",
    "    di1 = -di2\n",
    "    #charge neutrality\n",
    "    dV1 = -i1/s\n",
    "    #solids ohms law\n",
    "    dV2 = -i2/K\n",
    "    #liquids ohms law\n",
    "    return di1, di2, dV1, dV2\n",
    "\n",
    "def BVbattfunc(x, IV):\n",
    "    \"\"\"\n",
    "    Full Butler-Volmer kinetics\n",
    "    \"\"\"\n",
    "    i1, i2, V1, V2 = IV\n",
    "    di2 = a*io*(np.exp((n*F)/(R*T)*aa*(V1 - V2)) - np.exp((n*F)/(R*T)*-ac*(V1 - V2)))\n",
    "    #Kinetics\n",
    "    di1 = -di2\n",
    "    #charge neutrality\n",
    "    dV1 = -i1/s\n",
    "    #solids ohms law\n",
    "    dV2 = -i2/K\n",
    "    #liquids ohms law\n",
    "    return di1, di2, dV1, dV2\n",
    "\n",
    "def Tafelfunc_a(x, IV):\n",
    "    \"\"\"\n",
    "    uses Tafel kinetics\n",
    "    \"\"\"\n",
    "    i1, i2, V1, V2 = IV\n",
    "\n",
    "    taff = aa*n*F/(R*T)*(V1-V2)\n",
    "\n",
    "    di2 = a*io*np.exp(taff)\n",
    "    #Kinetics\n",
    "    di1 = -di2\n",
    "    #charge neutrality\n",
    "    dV1 = -i1/s\n",
    "    #solids ohms law\n",
    "    dV2 = -i2/K\n",
    "    #liquids ohms law\n",
    "\n",
    "    return di1, di2, dV1, dV2\n",
    "\n",
    "def Tafelfunc_c(x, IV):\n",
    "    \"\"\"\n",
    "    uses Tafel kinetics\n",
    "    \"\"\"\n",
    "    i1, i2, V1, V2 = IV\n",
    "\n",
    "    taff = -ac*n*F/(R*T)*(V1-V2)\n",
    "\n",
    "    di2 = -a*io*np.exp(taff)\n",
    "    #Kinetics\n",
    "    di1 = -di2\n",
    "    #charge neutrality\n",
    "    dV1 = -i1/s\n",
    "    #solids ohms law\n",
    "    dV2 = -i2/K\n",
    "    #liquids ohms law\n",
    "\n",
    "    return di1, di2, dV1, dV2\n"
   ]
  },
  {
   "cell_type": "code",
   "execution_count": 9,
   "metadata": {
    "collapsed": true
   },
   "outputs": [],
   "source": [
    "from scipy.integrate import solve_bvp\n",
    "\n",
    "def BC_c(ya, yb):\n",
    "    return (yb[0] - I), (ya[1] - I), ya[3], yb[1]\n",
    "\n",
    "def BC_a(ya, yb):\n",
    "    return (yb[1] - I), (ya[0] - I), ya[2], yb[0]"
   ]
  },
  {
   "cell_type": "code",
   "execution_count": 11,
   "metadata": {},
   "outputs": [
    {
     "data": {
      "image/png": "[encoded data removed]",
      "text/plain": [
       "<matplotlib.figure.Figure at 0x11a780550>"
      ]
     },
     "metadata": {},
     "output_type": "display_data"
    },
    {
     "data": {
      "image/png": "[encoded data removed]",
      "text/plain": [
       "<matplotlib.figure.Figure at 0x11a6f42b0>"
      ]
     },
     "metadata": {},
     "output_type": "display_data"
    }
   ],
   "source": [
    "x = np.linspace(0, L, 10)\n",
    "y = np.ones([4, 10])\n",
    "\n",
    "# y[:,0] = [0., I, .1, .1]\n",
    "# y[:,-1] = [I, 0., .1, .1]\n",
    "\n",
    "linear_IV = solve_bvp(linearbattfunc, BC_a, x, y)\n",
    "Ta_IV = solve_bvp(Tafelfunc_a, BC_a, x, y)\n",
    "Tb_IV = solve_bvp(Tafelfunc_c, BC_c, x, y)\n",
    "\n",
    "x_plot = np.linspace(0, L, 100)\n",
    "\n",
    "plt.figure(0)\n",
    "for i in range(2):\n",
    "#     plt.plot(x, y[i])\n",
    "#     plt.plot(x_plot, linear_IV.sol(x_plot)[i])\n",
    "    plt.plot(x_plot, Ta_IV.sol(x_plot)[i], color = 'r')\n",
    "    plt.plot(x_plot, Tb_IV.sol(x_plot)[i], color = 'b')\n",
    "    \n",
    "plt.figure(1)\n",
    "for i in range(2, 4):\n",
    "#     plt.plot(x_plot, linear_IV.sol(x_plot)[i])\n",
    "    plt.plot(x_plot, Ta_IV.sol(x_plot)[i], color = 'r')\n",
    "    plt.plot(x_plot, Tb_IV.sol(x_plot)[i], color = 'b')"
   ]
  },
  {
   "cell_type": "code",
   "execution_count": null,
   "metadata": {},
   "outputs": [],
   "source": [
    "print(linear_IV.sol(x_plot)[3] - linear_IV.sol(x_plot)[2])"
   ]
  },
  {
   "cell_type": "markdown",
   "metadata": {
    "collapsed": true
   },
   "source": [
    "# Anode and cathode modeling"
   ]
  },
  {
   "cell_type": "code",
   "execution_count": null,
   "metadata": {
    "collapsed": true
   },
   "outputs": [],
   "source": [
    "#i1(0) = 0, i1(L) = I, i1(2L) = 0\n",
    "#i2(0) = I, i2(L) = 0, i2(2L) = I\n",
    "#v1(L) = 0"
   ]
  }
 ],
 "metadata": {
  "kernelspec": {
   "display_name": "Python [default]",
   "language": "python",
   "name": "python3"
  },
  "language_info": {
   "codemirror_mode": {
    "name": "ipython",
    "version": 3
   },
   "file_extension": ".py",
   "mimetype": "text/x-python",
   "name": "python",
   "nbconvert_exporter": "python",
   "pygments_lexer": "ipython3",
   "version": "3.6.1"
  }
 },
 "nbformat": 4,
 "nbformat_minor": 2
}
