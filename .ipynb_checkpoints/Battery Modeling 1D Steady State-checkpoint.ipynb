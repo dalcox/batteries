{
 "cells": [
  {
   "cell_type": "code",
   "execution_count": 12,
   "metadata": {
    "collapsed": true
   },
   "outputs": [],
   "source": [
    "import scipy as sp\n",
    "import numpy as np\n",
    "import matplotlib.pyplot as plt\n",
    "from scipy.integrate import odeint\n",
    "from scipy.optimize import fsolve\n",
    "%matplotlib inline"
   ]
  },
  {
   "cell_type": "code",
   "execution_count": 13,
   "metadata": {},
   "outputs": [],
   "source": [
    "# initializing constants\n",
    "K = 0.06    #liquid conductivity\n",
    "s = 20.     #solid conductivity\n",
    "a = 23300.  #area/volume\n",
    "ac = 0.5    #alpha cathode\n",
    "aa = 0.5    #alpha anode\n",
    "io = 2e-7   #exchange current density\n",
    "L = 1.      #length\n",
    "n = 1       #exchanged electrons\n",
    "F = 96485   #Faraday's constant\n",
    "R = 8.314   #gas constant\n",
    "T = 298     #temperature\n",
    "I = 0.1     #total current density\n",
    "\n",
    "\n",
    "#graph analytically\n",
    "X = np.linspace(0., L, 200)\n",
    "Y=y = X/L\n",
    "v = L*np.sqrt(a*io*(n*F)/(R*T)*(K + s)/(K*s))\n",
    "i2 = I * K/(K + s)*(1 + (s*(K**-1)*np.sinh(v*(1-y)) - np.sinh(v*y))/np.sinh(v))"
   ]
  },
  {
   "cell_type": "code",
   "execution_count": 14,
   "metadata": {},
   "outputs": [
    {
     "data": {
      "text/plain": [
       "[<matplotlib.lines.Line2D at 0x1100c62b0>]"
      ]
     },
     "execution_count": 14,
     "metadata": {},
     "output_type": "execute_result"
    },
    {
     "data": {
      "image/png": "[encoded data removed]",
      "text/plain": [
       "<matplotlib.figure.Figure at 0x110097668>"
      ]
     },
     "metadata": {},
     "output_type": "display_data"
    }
   ],
   "source": [
    "plt.plot(X, i2)"
   ]
  },
  {
   "cell_type": "code",
   "execution_count": 50,
   "metadata": {
    "collapsed": true
   },
   "outputs": [],
   "source": [
    "#solve numerically\n",
    "\n",
    "#analytically combined equation\n",
    "def simplebattfunc(i, x):\n",
    "    i0, i1 = i\n",
    "    di = i1\n",
    "    d2i = a*io*(n*F)/(R*T)*(-I/s + i0*(1/s + 1/K))\n",
    "    return di, d2i\n",
    "\n",
    "#systems of differential equations with drop-in replacements possible\n",
    "def linearbattfunc(IV, x):\n",
    "    i1, i2, V1, V2 = IV\n",
    "    di2 = a*io*(n*F)/(R*T)*(V1 - V2)\n",
    "    di1 = -di2\n",
    "    dV1 = -i1/s\n",
    "    dV2 = -i2/K\n",
    "    return di1, di2, dV1, dV2\n",
    "\n",
    "def BVbattfunc(IV, x):\n",
    "    i1, i2, V1, V2 = IV\n",
    "    di2 = -a*io*np.exp((n*F)/(R*T)*-ac*(V1 - V2))\n",
    "#     di2 = a*io*(n*F)/(R*T)*(V1 - V2)\n",
    "    di1 = -di2\n",
    "    dV1 = -i1/s\n",
    "    dV2 = -i2/K\n",
    "    return di1, di2, dV1, dV2\n",
    "\n",
    "def Tafelfunc(IV, x):\n",
    "    \"\"\"\n",
    "    uses Tafel kinetics\n",
    "    \"\"\"\n",
    "    i1, i2, V1, V2 = IV\n",
    "    \n",
    "    di2 = -a*io*np.exp(-ac*n*F/(R*T)*(V1 - V2))\n",
    "    di1 = -di2\n",
    "    dV1 = -i1/s\n",
    "    dV2 = -i2/K\n",
    "    \n",
    "    return di1, di2, dV1, dV2"
   ]
  },
  {
   "cell_type": "code",
   "execution_count": 78,
   "metadata": {},
   "outputs": [],
   "source": [
    "def objective(u2_0):\n",
    "    \"\"\"\n",
    "    The thing we want to set equal to zero\n",
    "    \"\"\"\n",
    "    U = odeint(simplebattfunc, [I, u2_0], X)\n",
    "#     print(U[-1,0])\n",
    "    return U[-1,0]\n",
    "\n",
    "\n",
    "def objectiveLinear(V2o):\n",
    "    \"\"\"\n",
    "    Shooting method for solving linear kinetic system\n",
    "    \"\"\"\n",
    "    V = odeint(linearbattfunc, [0., I, 0., V2o], X)\n",
    "    dV = np.diff(V[:,3])/np.diff(X)\n",
    "#     print(dV[-1])\n",
    "    return dV[-1]\n",
    "\n",
    "\n",
    "def objectiveBV(V2o):\n",
    "    \"\"\"\n",
    "    Shooting method for solving Butler-Volmer kinetics system (Tafel)\n",
    "    \"\"\"\n",
    "    V = odeint(BVbattfunc, [0., I, 0., V2o], X)\n",
    "    dV = np.diff(V[:,3])/np.diff(X)\n",
    "#     print(dV[-1])\n",
    "    return dV[-1]\n",
    "\n",
    "def ObjectiveTafel(IVo):\n",
    "    \"\"\"\n",
    "    Solves initial condition for tafel kinetic problem\n",
    "    \"\"\"\n",
    "    i1o, V2o = IVo\n",
    "    U = odeint(Tafelfunc, [i1o, I, 0, V2o], X)\n",
    "    V = U[:,3]\n",
    "    dV = np.diff(V)/np.diff(X)\n",
    "    \n",
    "    return U[0,0], dV[-1]"
   ]
  },
  {
   "cell_type": "code",
   "execution_count": 79,
   "metadata": {},
   "outputs": [
    {
     "name": "stderr",
     "output_type": "stream",
     "text": [
      "/Users/daltoncox/anaconda/lib/python3.6/site-packages/scipy/integrate/odepack.py:218: ODEintWarning: Illegal input detected (internal error). Run with full_output = 1 to get quantitative information.\n",
      "  warnings.warn(warning_msg, ODEintWarning)\n",
      "/Users/daltoncox/anaconda/lib/python3.6/site-packages/scipy/integrate/odepack.py:218: ODEintWarning: Excess work done on this call (perhaps wrong Dfun type). Run with full_output = 1 to get quantitative information.\n",
      "  warnings.warn(warning_msg, ODEintWarning)\n",
      "/Users/daltoncox/anaconda/lib/python3.6/site-packages/scipy/optimize/minpack.py:161: RuntimeWarning: The iteration is not making good progress, as measured by the \n",
      "  improvement from the last ten iterations.\n",
      "  warnings.warn(msg, RuntimeWarning)\n"
     ]
    },
    {
     "data": {
      "text/plain": [
       "<matplotlib.legend.Legend at 0x1122f6710>"
      ]
     },
     "execution_count": 79,
     "metadata": {},
     "output_type": "execute_result"
    },
    {
     "data": {
      "image/png": "[encoded data removed]",
      "text/plain": [
       "<matplotlib.figure.Figure at 0x111e9e208>"
      ]
     },
     "metadata": {},
     "output_type": "display_data"
    }
   ],
   "source": [
    "# u2_0, = fsolve(objective, 0.)\n",
    "# simple_i = odeint(simplebattfunc, [I, u2_0], X)\n",
    "# simple_i1 = I - simple_i[:,0]\n",
    "\n",
    "linear_V2_0 = fsolve(objectiveLinear, 0.)\n",
    "linear_IV = odeint(linearbattfunc, [0., I, 0., linear_V2_0], X)\n",
    "\n",
    "# BV_V2_0 = fsolve(objectiveBV, 0)\n",
    "# BV_IV = odeint(BVbattfunc, [0., I, 0, BV_V2_0], X)\n",
    "\n",
    "T_i1o, T_V2o = fsolve(ObjectiveTafel, [0,0])\n",
    "T_IV = odeint(Tafelfunc, [0, I, 0, V2o], X)\n",
    "\n",
    "# plt.plot(X, simple_i[:,0], label = 'ionic linear simple')\n",
    "# plt.plot(X, simple_i1, label = 'electronic linear simple')\n",
    "plt.plot(X, linear_IV[:,0], '--', color = 'r', label = 'electronic linear')\n",
    "plt.plot(X, linear_IV[:,1], '--',color = 'b' ,label = 'ionic linear')\n",
    "plt.plot(X, T_IV[:,0], color = 'r', label = 'electronic Tafel')\n",
    "plt.plot(X, T_IV[:,1], color = 'b', label = 'ionic Tafel')\n",
    "plt.legend(loc = 'best')"
   ]
  },
  {
   "cell_type": "code",
   "execution_count": 72,
   "metadata": {
    "collapsed": true
   },
   "outputs": [],
   "source": [
    "def Tafelfunc(IV, x):\n",
    "    \"\"\"\n",
    "    uses Tafel kinetics\n",
    "    \"\"\"\n",
    "    i1, i2, V1, V2 = IV\n",
    "    \n",
    "    di2 = -a*io*np.exp(-ac*n*F/(R*T)*(V1 - V2))\n",
    "    di1 = -di2\n",
    "    dV1 = -i1/s\n",
    "    dV2 = -i2/K\n",
    "    \n",
    "    return di1, di2, dV1, dV2\n",
    "\n",
    "def ObjectiveTafel(IVo):\n",
    "    \"\"\"\n",
    "    Solves initial condition for tafel kinetic problem\n",
    "    \"\"\"\n",
    "    i1o, V2o = IVo\n",
    "    U = odeint(Tafelfunc, [i1o, I, 0, V2o], X)\n",
    "    V = U[:,3]\n",
    "    dV = np.diff(V)/np.diff(X)\n",
    "    \n",
    "    return U[0,0], dV[-1]"
   ]
  },
  {
   "cell_type": "code",
   "execution_count": 68,
   "metadata": {},
   "outputs": [
    {
     "name": "stderr",
     "output_type": "stream",
     "text": [
      "/Users/daltoncox/anaconda/lib/python3.6/site-packages/scipy/integrate/odepack.py:218: ODEintWarning: Illegal input detected (internal error). Run with full_output = 1 to get quantitative information.\n",
      "  warnings.warn(warning_msg, ODEintWarning)\n",
      "/Users/daltoncox/anaconda/lib/python3.6/site-packages/scipy/integrate/odepack.py:218: ODEintWarning: Excess work done on this call (perhaps wrong Dfun type). Run with full_output = 1 to get quantitative information.\n",
      "  warnings.warn(warning_msg, ODEintWarning)\n"
     ]
    },
    {
     "data": {
      "text/plain": [
       "[<matplotlib.lines.Line2D at 0x1117a1b00>,\n",
       " <matplotlib.lines.Line2D at 0x1117a1cf8>,\n",
       " <matplotlib.lines.Line2D at 0x1117a1ef0>,\n",
       " <matplotlib.lines.Line2D at 0x1117ac128>]"
      ]
     },
     "execution_count": 68,
     "metadata": {},
     "output_type": "execute_result"
    },
    {
     "data": {
      "image/png": "[encoded data removed]",
      "text/plain": [
       "<matplotlib.figure.Figure at 0x111604ba8>"
      ]
     },
     "metadata": {},
     "output_type": "display_data"
    }
   ],
   "source": [
    "i1o, V2o = fsolve(ObjectiveTafel, [0,0])\n",
    "U = odeint(Tafelfunc, [0, I, 0, V2o], X)\n",
    "\n",
    "plt.plot(X, U)"
   ]
  },
  {
   "cell_type": "code",
   "execution_count": 69,
   "metadata": {
    "collapsed": true
   },
   "outputs": [],
   "source": [
    "odeint?"
   ]
  },
  {
   "cell_type": "code",
   "execution_count": null,
   "metadata": {
    "collapsed": true
   },
   "outputs": [],
   "source": []
  }
 ],
 "metadata": {
  "kernelspec": {
   "display_name": "Python 3",
   "language": "python",
   "name": "python3"
  },
  "language_info": {
   "codemirror_mode": {
    "name": "ipython",
    "version": 3
   },
   "file_extension": ".py",
   "mimetype": "text/x-python",
   "name": "python",
   "nbconvert_exporter": "python",
   "pygments_lexer": "ipython3",
   "version": "3.6.1"
  }
 },
 "nbformat": 4,
 "nbformat_minor": 2
}
