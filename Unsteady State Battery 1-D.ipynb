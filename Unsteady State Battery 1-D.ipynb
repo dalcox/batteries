{
 "cells": [
  {
   "cell_type": "code",
   "execution_count": 1,
   "metadata": {
    "collapsed": true
   },
   "outputs": [],
   "source": [
    "import scipy as sp\n",
    "import numpy as np\n",
    "import BATT as b\n",
    "import matplotlib.pyplot as plt\n",
    "from scipy.integrate import odeint\n",
    "from scipy.optimize import fsolve\n",
    "from scipy.integrate import solve_bvp\n",
    "\n",
    "%matplotlib inline"
   ]
  },
  {
   "cell_type": "code",
   "execution_count": 2,
   "metadata": {
    "collapsed": true
   },
   "outputs": [],
   "source": [
    "# initializing constants\n",
    "K = 0.06    #liquid conductivity\n",
    "s = 20.     #solid conductivity\n",
    "a = 23300.  #area/volume\n",
    "ac = 0.5    #alpha cathode\n",
    "aa = 0.5    #alpha anode\n",
    "io = 2e-7   #exchange current density\n",
    "L = .5      #length\n",
    "n = 1       #exchanged electrons\n",
    "F = 96485   #Faraday's constant\n",
    "R = 8.314   #gas constant\n",
    "T = 298     #temperature\n",
    "I = 0.1     #total current density\n",
    "L_sep = 0.1 #length of separator\n",
    "Resist_sep = 1 #resistance of separator per length"
   ]
  },
  {
   "cell_type": "code",
   "execution_count": 3,
   "metadata": {
    "collapsed": true
   },
   "outputs": [],
   "source": [
    "Vwall1 = 1\n",
    "Vwall2 = 1\n",
    "\n",
    "def BCCath(ya, yb):\n",
    "    return (yb[0] - I), (ya[1] - I), ya[3] - Vwall_2, yb[1]\n",
    "#     return (ya[0] - I), yb[0], (yb[1] - I), ya[2]# (yb[4] - I), ya[4], (ya[5] - I), ya[2], (ya[6])\n",
    "\n",
    "def BCAn(ya, yb):\n",
    "    return (yb[1] - I), (ya[0] - I), yb[3], yb[0]\n",
    "#     return (ya[0] - I), yb[0], (yb[1] - I), ya[2]# (yb[4] - I), ya[4], (ya[5] - I), ya[2], (ya[6])\n",
    "      \n",
    "def TafelCath(x, IV):\n",
    "    \"\"\"\n",
    "    uses Tafel kinetics\n",
    "    \"\"\"\n",
    "    is_p, ie_p, Vs_p, Ve_p = IV\n",
    "    #n represents anode attributes, p represents cathode attributes\n",
    "    \n",
    "    taff_p = -ac*n*F/(R*T)*(Vs_p - Ve_p)\n",
    "    die_p = -a*io*np.exp(taff_p)\n",
    "    #Kinetics\n",
    "    \n",
    "    dis_p = -die_p\n",
    "    #charge neutrality\n",
    "    \n",
    "    dVs_p = -is_p/s\n",
    "    #solids ohms law\n",
    "    \n",
    "    dVe_p = -ie_p/K\n",
    "    #liquids ohms law\n",
    "\n",
    "    return dis_p, die_p, dVs_p, dVe_p\n",
    "\n",
    "def TafelAn(x, IV):\n",
    "    \"\"\"\n",
    "    uses Tafel kinetics\n",
    "    \"\"\"\n",
    "    \n",
    "    is_n, ie_n, Vs_n, Ve_n = IV\n",
    "    #n represents anode attributes, p represents cathode attributes\n",
    "    \n",
    "    taff_n = aa*n*F/(R*T)*(Vs_n - Ve_n)\n",
    "    die_n = a*io*np.exp(taff_n)\n",
    "    #Kinetics\n",
    "    \n",
    "    dis_n = -die_n\n",
    "    #charge neutrality\n",
    "    \n",
    "    dVs_n = -is_n/s\n",
    "    #solids ohms law\n",
    "    \n",
    "    dVe_n = -ie_n/K\n",
    "    #liquids ohms law\n",
    "\n",
    "    return dis_n, die_n, dVs_n, dVe_n"
   ]
  },
  {
   "cell_type": "code",
   "execution_count": 4,
   "metadata": {},
   "outputs": [
    {
     "data": {
      "text/plain": [
       "<matplotlib.legend.Legend at 0x1114ca9e8>"
      ]
     },
     "execution_count": 4,
     "metadata": {},
     "output_type": "execute_result"
    },
    {
     "data": {
      "image/png": "[encoded data removed]",
      "text/plain": [
       "<matplotlib.figure.Figure at 0x11138a2e8>"
      ]
     },
     "metadata": {},
     "output_type": "display_data"
    }
   ],
   "source": [
    "N = 10\n",
    "N_sep = 20\n",
    "x_cath = np.linspace(L + L_sep, 2*L + L_sep, N)\n",
    "x_an = np.linspace(0, L, N)\n",
    "y = np.zeros([4, N])\n",
    "\n",
    "x_plot_cath = np.linspace(L + L_sep, L_sep + 2*L, 100)\n",
    "x_plot_an = np.linspace(0, L, 100)\n",
    "\n",
    "An = solve_bvp(TafelAn, BCAn, x_an, y)\n",
    "Vwall_1 = An.sol(x_plot_an)[3][-1]\n",
    "\n",
    "x_sep = np.linspace(L, L + L_sep, N_sep)\n",
    "is_sep = np.ones(N_sep) * An.sol(x_plot_an)[0][-1]\n",
    "ie_sep = np.ones(N_sep) * An.sol(x_plot_an)[1][-1]\n",
    "Ve_sep = np.zeros(N_sep)\n",
    "Ve_sep[0] = Vwall_1\n",
    "for i in range(N_sep):\n",
    "    Ve_sep[i] = Vwall_1 - (x_sep[i] - L) * Resist_sep\n",
    "\n",
    "Vwall_2 = Ve_sep[-1]\n",
    "Cath = solve_bvp(TafelCath, BCCath, x_cath, y)\n",
    "# Ta_IV = solve_bvp(Tafelfunc_a, BC_a, x, y)\n",
    "# Tc_IV = solve_bvp(Tafelfunc_c, BC_c, x, y)\n",
    "\n",
    "for i in range(4):\n",
    "    plt.plot(x_plot_cath, Cath.sol(x_plot_cath)[i], color = 'r', label = 'cathode')\n",
    "    plt.plot(x_plot_an, An.sol(x_plot_an)[i], color = 'b', label = 'anode')\n",
    "\n",
    "plt.plot(x_sep, Ve_sep, color = 'g')\n",
    "plt.plot(x_sep, is_sep, color = 'g')\n",
    "plt.plot(x_sep, ie_sep, color = 'g', label = 'separator')\n",
    "\n",
    "plt.legend(loc = 'best')"
   ]
  },
  {
   "cell_type": "code",
   "execution_count": 9,
   "metadata": {},
   "outputs": [],
   "source": [
    "def USS_TafelAn(x, IV):\n",
    "    \"\"\"\n",
    "    uses Tafel kinetics\n",
    "    \"\"\"\n",
    "    \n",
    "    is_n, ie_n, Vs_n, Ve_n = IV\n",
    "    #n represents anode attributes, p represents cathode attributes\n",
    "    \n",
    "    x_data = i_lim_x.copy() #np.linspace(0, L, 10)\n",
    "    y_data = i_lim.copy()   #np.array([1,1,1,1,1,1,1,1,1,1])\n",
    "#     print(x_data, y_data)\n",
    "    f = sp.interpolate.interp1d(x_data, y_data)\n",
    "    die_n_lim = f(x)\n",
    "#     print(die_n_lim)\n",
    "    \n",
    "    taff_n = aa*n*F/(R*T)*(Vs_n - Ve_n)\n",
    "    taff_c = -ac*n*F/(R*T)*(Vs_n - Ve_n)\n",
    "    die_n = (np.exp(taff_n)-np.exp(taff_c))/(1/(a*io)+(np.exp(taff_n)-np.exp(taff_c))/die_n_lim)\n",
    "    #print(die_n)\n",
    "    #Kinetics\n",
    "    \n",
    "    dis_n = -die_n\n",
    "    #charge neutrality\n",
    "    \n",
    "    dVs_n = -is_n/s\n",
    "    #solids ohms law\n",
    "    \n",
    "    dVe_n = -ie_n/K\n",
    "    #liquids ohms law\n",
    "\n",
    "    return dis_n, die_n, dVs_n, dVe_n"
   ]
  },
  {
   "cell_type": "code",
   "execution_count": 10,
   "metadata": {},
   "outputs": [
    {
     "name": "stdout",
     "output_type": "stream",
     "text": [
      "5582.440922601246\n"
     ]
    }
   ],
   "source": [
    "coulomb_density = 5.03/86.9368 * F\n",
    "ro = 0.001\n",
    "print(coulomb_density) #C/cm^3"
   ]
  },
  {
   "cell_type": "code",
   "execution_count": 60,
   "metadata": {},
   "outputs": [
    {
     "data": {
      "image/png": "[encoded data removed]",
      "text/plain": [
       "<matplotlib.figure.Figure at 0x112153160>"
      ]
     },
     "metadata": {},
     "output_type": "display_data"
    }
   ],
   "source": [
    "N = 10\n",
    "N_sep = 20\n",
    "x_cath = np.linspace(L + L_sep, 2*L + L_sep, N)\n",
    "x_an = np.linspace(0, L, N)\n",
    "y = np.zeros([4, N])\n",
    "i_lim_x = np.linspace(0,L,100)\n",
    "i_lim = np.ones(i_lim_x.size)\n",
    "\n",
    "x_plot_cath = np.linspace(L + L_sep, L_sep + 2*L, 100)\n",
    "x_plot_an = np.linspace(0, L, 100)\n",
    "\n",
    "# An = solve_bvp(USS_TafelAn, BCAn, x_an, y)\n",
    "\n",
    "holder = []\n",
    "\n",
    "for i in range(59):\n",
    "    #print(i_lim)\n",
    "    An = solve_bvp(USS_TafelAn, BCAn, x_an, y)\n",
    "    ie = An.sol(i_lim_x)[1]\n",
    "    #print(ie)\n",
    "    z = np.array([0])\n",
    "    zprime = np.concatenate((z, np.diff(ie)/np.diff(i_lim_x)))\n",
    "    holder = np.concatenate([holder, zprime], axis = 0)\n",
    "    i_lim = i_lim - zprime * .05\n",
    "#     print(i_lim)\n",
    "\n",
    "for i in range(4):\n",
    "    plt.plot(x_plot_an, An.sol(x_plot_an)[i], color = 'b', label = 'anode')\n",
    "    plt.plot(i_lim_x, zprime)\n"
   ]
  },
  {
   "cell_type": "code",
   "execution_count": 61,
   "metadata": {},
   "outputs": [
    {
     "data": {
      "text/plain": [
       "[<matplotlib.lines.Line2D at 0x1123156a0>]"
      ]
     },
     "execution_count": 61,
     "metadata": {},
     "output_type": "execute_result"
    },
    {
     "data": {
      "image/png": "[encoded data removed]",
      "text/plain": [
       "<matplotlib.figure.Figure at 0x11150c780>"
      ]
     },
     "metadata": {},
     "output_type": "display_data"
    }
   ],
   "source": [
    "i_lim_x = np.linspace(0,L,100)\n",
    "i_lim = np.ones(i_lim_x.size)\n",
    "An = solve_bvp(USS_TafelAn, BCAn, x_an, y)\n",
    "\n",
    "ie = An.sol(i_lim_x)[1]\n",
    "zprime = np.concatenate((z, np.diff(ie)/np.diff(i_lim_x)))\n",
    "\n",
    "for i in range(4):\n",
    "    plt.plot(x_plot_an, An.sol(x_plot_an)[i], color = 'b', label = 'anode')\n",
    "plt.plot(i_lim_x, i_lim)\n",
    "plt.plot(i_lim_x, zprime)"
   ]
  },
  {
   "cell_type": "code",
   "execution_count": 62,
   "metadata": {},
   "outputs": [
    {
     "name": "stdout",
     "output_type": "stream",
     "text": [
      "[ 0.          0.05846425  0.05846286 ...,  0.0592178   0.05802761\n",
      "  0.05702803]\n"
     ]
    }
   ],
   "source": [
    "print(holder)"
   ]
  },
  {
   "cell_type": "code",
   "execution_count": 71,
   "metadata": {},
   "outputs": [],
   "source": [
    "holder = holder.reshape((100,59))"
   ]
  },
  {
   "cell_type": "code",
   "execution_count": 77,
   "metadata": {},
   "outputs": [
    {
     "data": {
      "text/plain": [
       "[<matplotlib.lines.Line2D at 0x111e1ce48>]"
      ]
     },
     "execution_count": 77,
     "metadata": {},
     "output_type": "execute_result"
    },
    {
     "data": {
      "image/png": "[encoded data removed]",
      "text/plain": [
       "<matplotlib.figure.Figure at 0x11308b0b8>"
      ]
     },
     "metadata": {},
     "output_type": "display_data"
    }
   ],
   "source": [
    "plt.plot(range(59),holder[59,:])"
   ]
  },
  {
   "cell_type": "code",
   "execution_count": null,
   "metadata": {
    "collapsed": true
   },
   "outputs": [],
   "source": []
  }
 ],
 "metadata": {
  "kernelspec": {
   "display_name": "Python [conda root]",
   "language": "python",
   "name": "conda-root-py"
  },
  "language_info": {
   "codemirror_mode": {
    "name": "ipython",
    "version": 3
   },
   "file_extension": ".py",
   "mimetype": "text/x-python",
   "name": "python",
   "nbconvert_exporter": "python",
   "pygments_lexer": "ipython3",
   "version": "3.6.1"
  }
 },
 "nbformat": 4,
 "nbformat_minor": 2
}
